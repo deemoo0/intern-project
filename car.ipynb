{
 "cells": [
  {
   "cell_type": "code",
   "execution_count": null,
   "id": "f0a30c46",
   "metadata": {},
   "outputs": [],
   "source": [
    "# Loading the libraries\n",
    "import pandas as pd\n",
    "import numpy as np\n",
    "import matplotlib.pyplot as plt\n",
    "import seaborn as sns"
   ]
  },
  {
   "cell_type": "code",
   "execution_count": null,
   "id": "afadd615",
   "metadata": {},
   "outputs": [],
   "source": [
    "# Loading the dataset\n",
    "df = pd.read_csv('cars.csv')\n",
    "df.head()"
   ]
  },
  {
   "cell_type": "code",
   "execution_count": null,
   "id": "576af295",
   "metadata": {},
   "outputs": [],
   "source": [
    "# Checking the shape of the dataset\n",
    "df.shape"
   ]
  },
  {
   "cell_type": "code",
   "execution_count": null,
   "id": "6ec874cf",
   "metadata": {},
   "outputs": [],
   "source": [
    "# Checking the data types of the columns\n",
    "df.dtypes"
   ]
  },
  {
   "cell_type": "code",
   "execution_count": null,
   "id": "f5de4ce1",
   "metadata": {},
   "outputs": [],
   "source": [
    "# Droping the columns that are not needed for the analysis\n",
    "df.drop(columns = ['model','segment'], inplace=True"
   ]
  },
  {
   "cell_type": "code",
   "execution_count": null,
   "id": "985cf8ef",
   "metadata": {},
   "outputs": [],
   "source": [
    "# Unique values in the columns\n",
    "df.nunique()"
   ]
  },
  {
   "cell_type": "code",
   "execution_count": null,
   "id": "f1fba9f9",
   "metadata": {},
   "outputs": [],
   "source": [
    "# Unqiue car make\n",
    "df['make'].unique()"
   ]
  },
  {
   "cell_type": "code",
   "execution_count": null,
   "id": "98d07340",
   "metadata": {},
   "outputs": [],
   "source": [
    "# Categorizing the car make\n",
    "def car_make(make):\n",
    "    if make in ['mazda', 'mg', 'rover','alfa-romeo', 'audi', 'peugeot', 'chrysler', 'bmw', 'aston-martin','jaguar', 'land-rover']:\n",
    "        return 'Luxury European'\n",
    "    elif make in ['renault','dacia', 'citroen', 'volvo', 'fiat', 'opel', 'seat', 'volkswagen', 'citroen', 'skoda', 'mini', 'smart' ]:\n",
    "        return 'Mainstream European'\n",
    "    elif make in ['gaz', 'aro', 'lada-vaz', 'izh', 'raf', 'bogdan', 'moskvich', 'uaz', 'luaz', 'wartburg', 'trabant', 'proton', 'fso', 'jac', 'iran-khodro', 'zotye', 'tagaz', 'saipa', 'brilliance']:\n",
    "        return 'Russian/Eastern European'\n",
    "    elif make in ['toyota', 'nissan','asia', 'mitsubishi', 'chery', 'hyundai', 'honda', 'ssangyong', 'suzuki', 'daihatsu', 'kia', 'changan', 'lexus', 'isuzu', 'great-wall', 'daewoo', 'vortex', 'infiniti', 'byd', 'geely', 'haval', 'acura', 'scion', 'tata', 'datsun', 'ravon', 'proton', 'jac']:\n",
    "        return 'Asian'\n",
    "    elif make in ['oldsmobile', 'gmc', 'chrysler', 'plymouth', 'ford', 'cadillac', 'jeep', 'mercury', 'lincoln', 'buick', 'saturn', 'pontiac', 'chevrolet']:\n",
    "        return 'American'\n",
    "    elif make in ['porsche','bentley', 'maserati', 'tesla', 'mclaren']:\n",
    "        return 'Specialty'\n",
    "    else:\n",
    "        return 'Other'\n",
    "    \n",
    "df['make_segment'] = df['make'].apply(car_make)"
   ]
  },
  {
   "cell_type": "code",
   "execution_count": null,
   "id": "219d8649",
   "metadata": {},
   "outputs": [],
   "source": [
    "df.describe()"
   ]
  },
  {
   "cell_type": "code",
   "execution_count": null,
   "id": "4518c778",
   "metadata": {},
   "outputs": [],
   "source": [
    "df.head()"
   ]
  },
  {
   "cell_type": "code",
   "execution_count": null,
   "id": "e36b96c0",
   "metadata": {},
   "outputs": [],
   "source": [
    "sns.barplot(x=df['make_segment'].unique(), y=df['make_segment'].value_counts(), data=df)\n",
    "plt.xticks(rotation=90)"
   ]
  },
  {
   "cell_type": "code",
   "execution_count": null,
   "id": "e42bb1fb",
   "metadata": {},
   "outputs": [],
   "source": [
    "fig, ax = plt.subplots(2,3,figsize=(20,10))\n",
    "sns.countplot(x='condition', data=df, ax=ax[0,0])\n",
    "sns.countplot(x='fuel_type', data=df, ax=ax[0,1])\n",
    "sns.countplot(x='transmission', data=df, ax=ax[0,2])\n",
    "sns.countplot(x='color', data=df, ax=ax[1,0])\n",
    "ax[1,0].tick_params(axis='x', rotation=90)\n",
    "sns.countplot(x='drive_unit', data=df, ax=ax[1,1])\n",
    "ax[1,1].tick_params(axis='x', rotation=90)\n",
    "sns.countplot(x='make_segment', data=df, ax=ax[1,2])\n",
    "ax[1,2].tick_params(axis='x', rotation=90)"
   ]
  },
  {
   "cell_type": "code",
   "execution_count": null,
   "id": "2daec5ef",
   "metadata": {},
   "outputs": [],
   "source": [
    "fig, ax = plt.subplots(2,2,figsize=(20,10))\n",
    "sns.histplot (df['year'], ax=ax[0,0], bins = 50)\n",
    "sns.histplot(df['priceUSD'], ax=ax[0,1])\n",
    "sns.histplot(df['mileage(kilometers)'], ax=ax[1,0], bins = 100)\n",
    "sns.histplot(df['volume(cm3)'], ax=ax[1,1], bins = 100)"
   ]
  },
  {
   "cell_type": "code",
   "execution_count": null,
   "id": "0fe33eac",
   "metadata": {},
   "outputs": [],
   "source": [
    "df= df[df['year']>1980]"
   ]
  },
  {
   "cell_type": "code",
   "execution_count": null,
   "id": "c9e64b22",
   "metadata": {},
   "outputs": [],
   "source": [
    "demodf = df.groupby('make')['priceUSD'].mean().reset_index()\n",
    "demodf = demodf.sort_values(by='priceUSD', ascending=False).head(10)\n",
    "\n",
    "#b Bar Plot\n",
    "plt.figure(figsize=(8,5))\n",
    "sns.barplot(y='make', x='priceUSD', data=demodf)\n",
    "plt.xticks(rotation=90)\n",
    "plt.title('Top 10 Most Expensive Car Brands')\n",
    "plt.ylabel('Car Brand')\n",
    "plt.xlabel('Price in USD')\n",
    "plt.show()"
   ]
  },
  {
   "cell_type": "code",
   "execution_count": null,
   "id": "05eb6046",
   "metadata": {},
   "outputs": [],
   "source": [
    "sns.lineplot(x = 'year', y = 'priceUSD', data = df, hue = 'condition')\n",
    "plt.title('Price of Cars by Year and Condition')\n",
    "plt.show()"
   ]
  },
  {
   "cell_type": "code",
   "execution_count": null,
   "id": "36947b34",
   "metadata": {},
   "outputs": [],
   "source": [
    "sns.lineplot(x = 'year', y = 'priceUSD', data = df, hue = 'transmission')\n",
    "plt.title('Price of Cars and Transmission')\n",
    "plt.show()"
   ]
  },
  {
   "cell_type": "code",
   "execution_count": null,
   "id": "d1365b94",
   "metadata": {},
   "outputs": [],
   "source": [
    "sns.lineplot(x = 'year', y = 'priceUSD', data = df, hue = 'fuel_type')\n",
    "plt.title('Price of Cars and Fuel Type')\n",
    "plt.show()"
   ]
  },
  {
   "cell_type": "code",
   "execution_count": null,
   "id": "028f0213",
   "metadata": {},
   "outputs": [],
   "source": [
    "sns.lineplot(x = 'year', y = 'priceUSD', data = df, hue = 'drive_unit')\n",
    "plt.title('Price of Cars and Drive Unit')\n",
    "plt.show()"
   ]
  },
  {
   "cell_type": "code",
   "execution_count": null,
   "id": "eec13d7c",
   "metadata": {},
   "outputs": [],
   "source": [
    "sns.lineplot(x = 'year', y = 'priceUSD', data = df, hue = 'make_segment')\n",
    "plt.title('Price of Cars and Brand Segment')\n",
    "plt.show()"
   ]
  },
  {
   "cell_type": "code",
   "execution_count": null,
   "id": "ebae6202",
   "metadata": {},
   "outputs": [],
   "source": [
    "# checking for null values\n",
    "df.isnull().sum()"
   ]
  },
  {
   "cell_type": "code",
   "execution_count": null,
   "id": "09234656",
   "metadata": {},
   "outputs": [],
   "source": [
    "df.dropna(inplace=True)"
   ]
  },
  {
   "cell_type": "code",
   "execution_count": null,
   "id": "fc5b8036",
   "metadata": {},
   "outputs": [],
   "source": [
    "df.drop(columns=['make'], inplace=True)"
   ]
  },
  {
   "cell_type": "code",
   "execution_count": null,
   "id": "f9a808c6",
   "metadata": {},
   "outputs": [],
   "source": [
    "from sklearn.preprocessing import LabelEncoder\n",
    "\n",
    "# columns to encode\n",
    "cols = ['condition', 'fuel_type', 'transmission', 'color', 'drive_unit', 'make_segment']\n",
    "\n",
    "# Label encoding Object \n",
    "le = LabelEncoder()\n",
    "\n",
    "#label encoding for each column\n",
    "for col in cols:\n",
    "    le.fit(df[col])\n",
    "    df[col] = le.transform(df[col])\n",
    "    print(col, df[col].unique())"
   ]
  },
  {
   "cell_type": "code",
   "execution_count": null,
   "id": "247d02d6",
   "metadata": {},
   "outputs": [],
   "source": [
    "plt.figure(figsize=(10,10))\n",
    "sns.heatmap(df.corr(), annot=True, cmap='coolwarm')"
   ]
  },
  {
   "cell_type": "code",
   "execution_count": null,
   "id": "4b78975a",
   "metadata": {},
   "outputs": [],
   "source": [
    "# Using Z-score to remove outliers\n",
    "from scipy import stats\n",
    "\n",
    "z = np.abs(stats.zscore(df))\n",
    "\n",
    "threshold = 3\n",
    "\n",
    "#columns with outliers\n",
    "cols = ['year', 'mileage(kilometers)', 'volume(cm3)']\n",
    "\n",
    "#removing outliers\n",
    "df = df[(z < 3).all(axis=1)]"
   ]
  },
  {
   "cell_type": "code",
   "execution_count": null,
   "id": "99e75a76",
   "metadata": {},
   "outputs": [],
   "source": [
    "from sklearn.model_selection import train_test_split\n",
    "X_train, X_test, y_train, y_test = train_test_split(df.drop(columns=['priceUSD']), df['priceUSD'], test_size=0.2, random_state=42)"
   ]
  },
  {
   "cell_type": "code",
   "execution_count": null,
   "id": "abf73cea",
   "metadata": {},
   "outputs": [],
   "source": [
    "from sklearn.tree import DecisionTreeRegressor\n",
    "\n",
    "# Decision Tree Regressor Object\n",
    "dtr = DecisionTreeRegressor()"
   ]
  },
  {
   "cell_type": "code",
   "execution_count": null,
   "id": "3508203a",
   "metadata": {},
   "outputs": [],
   "source": [
    "from sklearn.model_selection import GridSearchCV\n",
    "\n",
    "#parameters for grid search\n",
    "params = {\n",
    "    'max_depth': [2,4,6,8],\n",
    "    'min_samples_split': [2,4,6,8],\n",
    "    'min_samples_leaf': [1,2,3,4],\n",
    "    'max_features': ['auto', 'sqrt', 'log2'],\n",
    "    'random_state': [0,42]\n",
    "}\n",
    "# Grid Search Object\n",
    "grid = GridSearchCV(dtr, param_grid=params, cv=5, verbose=1, n_jobs=-1)\n",
    "\n",
    "#fitting the grid search\n",
    "grid.fit(X_train, y_train)\n",
    "\n",
    "#best parameters\n",
    "print(grid.best_params_)"
   ]
  },
  {
   "cell_type": "code",
   "execution_count": null,
   "id": "ef91946b",
   "metadata": {},
   "outputs": [],
   "source": []
  },
  {
   "cell_type": "code",
   "execution_count": null,
   "id": "5a98c2a3",
   "metadata": {},
   "outputs": [],
   "source": [
    "#decision tree regressor with best parameters\n",
    "dtr = DecisionTreeRegressor(max_depth=8, max_features='auto', min_samples_leaf=4, min_samples_split=2, random_state=0)\n",
    "\n",
    "#fitting the model\n",
    "dtr.fit(X_train, y_train)"
   ]
  },
  {
   "cell_type": "code",
   "execution_count": null,
   "id": "0ce46cd2",
   "metadata": {},
   "outputs": [],
   "source": [
    "#training score\n",
    "dtr.score(X_train, y_train)"
   ]
  },
  {
   "cell_type": "code",
   "execution_count": null,
   "id": "950cf5ee",
   "metadata": {},
   "outputs": [],
   "source": []
  },
  {
   "cell_type": "code",
   "execution_count": null,
   "id": "69b4bd0f",
   "metadata": {},
   "outputs": [],
   "source": [
    "from sklearn.metrics import r2_score, mean_squared_error, mean_absolute_error\n",
    "print('R2 Score: ', r2_score(y_test, y_pred))\n",
    "print('Mean Squared Error: ', mean_squared_error(y_test, y_pred))\n",
    "print('Mean Absolute Error: ', mean_absolute_error(y_test, y_pred))\n",
    "print('Root Mean Squared Error: ', np.sqrt(mean_squared_error(y_test, y_pred)))"
   ]
  },
  {
   "cell_type": "code",
   "execution_count": null,
   "id": "970d8f7f",
   "metadata": {},
   "outputs": [],
   "source": [
    "feat_df = pd.DataFrame({'Feature': X_train.columns, 'Importance': dtr.feature_importances_})\n",
    "feat_df = feat_df.sort_values(by='Importance', ascending=False)\n",
    "feat_df"
   ]
  },
  {
   "cell_type": "code",
   "execution_count": null,
   "id": "a3378d45",
   "metadata": {},
   "outputs": [],
   "source": [
    "# Bar Plot\n",
    "sns.set_style('darkgrid')\n",
    "plt.figure(figsize=(8,5))\n",
    "sns.barplot(x='Importance', y='Feature', data=feat_df)\n",
    "plt.title('Feature Importance')\n",
    "plt.show()\n"
   ]
  }
 ],
 "metadata": {
  "language_info": {
   "name": "python"
  }
 },
 "nbformat": 4,
 "nbformat_minor": 5
}
